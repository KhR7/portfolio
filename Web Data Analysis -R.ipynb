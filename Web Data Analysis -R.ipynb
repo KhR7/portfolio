{
 "cells": [
  {
   "cell_type": "code",
   "execution_count": 1,
   "metadata": {},
   "outputs": [],
   "source": [
    "#TASKS:\n",
    "#•\tThe team wants to analyze each variable of the data collected through data summarization to get a basic understanding of the dataset and to prepare for further analysis.\n",
    "#•\tAs mentioned earlier, a unique page view represents the number of sessions during which that page was viewed one or more times. A visit counts all instances, no matter how many times the same visitor may have been to your site. So the team needs to know whether the unique page view value depends on visits.\n",
    "#•\tFind out the probable factors from the dataset, which could affect the exits. Exit Page Analysis is usually required to get an idea about why a user leaves the website for a session and moves on to another one. Please keep in mind that exits should not be confused with bounces.\n",
    "#•\tEvery site wants to increase the time on page for a visitor. This increases the chances of the visitor understanding the site content better and hence there are more chances of a transaction taking place. Find the variables which possibly have an effect on the time on page.\n",
    "#•\tA high bounce rate is a cause of alarm for websites which depend on visitor engagement. Help the team in determining the factors that are impacting the bounce.\n"
   ]
  },
  {
   "cell_type": "code",
   "execution_count": 2,
   "metadata": {},
   "outputs": [],
   "source": [
    "#Assigning the csv data file to a Varible\n",
    "dataset <- read.csv(\"1555058318_internet_dataset.csv\")"
   ]
  },
  {
   "cell_type": "code",
   "execution_count": 3,
   "metadata": {},
   "outputs": [
    {
     "data": {
      "text/html": [
       "<table>\n",
       "<thead><tr><th scope=col>ï..Bounces</th><th scope=col>Exits</th><th scope=col>Continent</th><th scope=col>Sourcegroup</th><th scope=col>Timeinpage</th><th scope=col>Uniquepageviews</th><th scope=col>Visits</th><th scope=col>BouncesNew</th></tr></thead>\n",
       "<tbody>\n",
       "\t<tr><td>0                         </td><td>0                         </td><td>OC                        </td><td>(direct)                  </td><td>  18                      </td><td>1                         </td><td>0                         </td><td>0                         </td></tr>\n",
       "\t<tr><td>0                         </td><td>0                         </td><td>N.America                 </td><td>(direct)                  </td><td>   4                      </td><td>1                         </td><td>0                         </td><td>0                         </td></tr>\n",
       "\t<tr><td>0                         </td><td>0                         </td><td>N.America                 </td><td>Others                    </td><td>  35                      </td><td>1                         </td><td>0                         </td><td>0                         </td></tr>\n",
       "\t<tr><td>0                         </td><td>0                         </td><td>N.America                 </td><td>public.tableausoftware.com</td><td>  70                      </td><td>1                         </td><td>0                         </td><td>0                         </td></tr>\n",
       "\t<tr><td>0                         </td><td>0                         </td><td>N.America                 </td><td>public.tableausoftware.com</td><td>  81                      </td><td>1                         </td><td>0                         </td><td>0                         </td></tr>\n",
       "\t<tr><td>0                         </td><td>0                         </td><td>N.America                 </td><td>public.tableausoftware.com</td><td>  75                      </td><td>1                         </td><td>0                         </td><td>0                         </td></tr>\n",
       "\t<tr><td>0                         </td><td>0                         </td><td>N.America                 </td><td>public.tableausoftware.com</td><td> 186                      </td><td>1                         </td><td>0                         </td><td>0                         </td></tr>\n",
       "\t<tr><td>0                         </td><td>0                         </td><td>N.America                 </td><td>(direct)                  </td><td> 710                      </td><td>1                         </td><td>0                         </td><td>0                         </td></tr>\n",
       "\t<tr><td>0                         </td><td>0                         </td><td>OC                        </td><td>(direct)                  </td><td> 712                      </td><td>1                         </td><td>1                         </td><td>0                         </td></tr>\n",
       "\t<tr><td>0                         </td><td>0                         </td><td>AS                        </td><td>Others                    </td><td> 344                      </td><td>1                         </td><td>1                         </td><td>0                         </td></tr>\n",
       "\t<tr><td>0                         </td><td>0                         </td><td>EU                        </td><td>Others                    </td><td>  27                      </td><td>1                         </td><td>1                         </td><td>0                         </td></tr>\n",
       "\t<tr><td>0                         </td><td>0                         </td><td>EU                        </td><td>visualisingdata.com       </td><td>   0                      </td><td>1                         </td><td>1                         </td><td>0                         </td></tr>\n",
       "\t<tr><td>0                         </td><td>0                         </td><td>N.America                 </td><td>Others                    </td><td> 294                      </td><td>1                         </td><td>1                         </td><td>0                         </td></tr>\n",
       "\t<tr><td>0                         </td><td>0                         </td><td>N.America                 </td><td>public.tableausoftware.com</td><td> 111                      </td><td>1                         </td><td>1                         </td><td>0                         </td></tr>\n",
       "\t<tr><td>0                         </td><td>0                         </td><td>SA                        </td><td>(direct)                  </td><td>1430                      </td><td>1                         </td><td>1                         </td><td>0                         </td></tr>\n",
       "\t<tr><td>0                         </td><td>0                         </td><td>N.America                 </td><td>(direct)                  </td><td>  29                      </td><td>1                         </td><td>1                         </td><td>0                         </td></tr>\n",
       "\t<tr><td>0                         </td><td>0                         </td><td>N.America                 </td><td>Others                    </td><td> 637                      </td><td>1                         </td><td>1                         </td><td>0                         </td></tr>\n",
       "\t<tr><td>0                         </td><td>0                         </td><td>N.America                 </td><td>google                    </td><td>  10                      </td><td>1                         </td><td>1                         </td><td>0                         </td></tr>\n",
       "\t<tr><td>0                         </td><td>0                         </td><td>N.America                 </td><td>google                    </td><td>  42                      </td><td>2                         </td><td>1                         </td><td>0                         </td></tr>\n",
       "\t<tr><td>0                         </td><td>1                         </td><td>OC                        </td><td>(direct)                  </td><td>   0                      </td><td>1                         </td><td>0                         </td><td>0                         </td></tr>\n",
       "\t<tr><td>0                         </td><td>1                         </td><td>SA                        </td><td>(direct)                  </td><td>   0                      </td><td>1                         </td><td>0                         </td><td>0                         </td></tr>\n",
       "\t<tr><td>0                         </td><td>1                         </td><td>AS                        </td><td>Others                    </td><td>   0                      </td><td>1                         </td><td>0                         </td><td>0                         </td></tr>\n",
       "\t<tr><td>0                         </td><td>1                         </td><td>EU                        </td><td>Others                    </td><td>   0                      </td><td>1                         </td><td>0                         </td><td>0                         </td></tr>\n",
       "\t<tr><td>0                         </td><td>1                         </td><td>EU                        </td><td>visualisingdata.com       </td><td>   0                      </td><td>1                         </td><td>0                         </td><td>0                         </td></tr>\n",
       "\t<tr><td>0                         </td><td>1                         </td><td>N.America                 </td><td>(direct)                  </td><td>   0                      </td><td>1                         </td><td>0                         </td><td>0                         </td></tr>\n",
       "\t<tr><td>0                         </td><td>1                         </td><td>N.America                 </td><td>Others                    </td><td>   0                      </td><td>1                         </td><td>0                         </td><td>0                         </td></tr>\n",
       "\t<tr><td>0                         </td><td>1                         </td><td>N.America                 </td><td>public.tableausoftware.com</td><td>   0                      </td><td>1                         </td><td>0                         </td><td>0                         </td></tr>\n",
       "\t<tr><td>0                         </td><td>1                         </td><td>N.America                 </td><td>Others                    </td><td>  10                      </td><td>1                         </td><td>0                         </td><td>0                         </td></tr>\n",
       "\t<tr><td>0                         </td><td>1                         </td><td>AS                        </td><td>google                    </td><td>  23                      </td><td>1                         </td><td>1                         </td><td>0                         </td></tr>\n",
       "\t<tr><td>0                         </td><td>1                         </td><td>EU                        </td><td>google                    </td><td>   6                      </td><td>1                         </td><td>1                         </td><td>0                         </td></tr>\n",
       "\t<tr><td>...</td><td>...</td><td>...</td><td>...</td><td>...</td><td>...</td><td>...</td><td>...</td></tr>\n",
       "\t<tr><td>1                         </td><td>1                         </td><td>N.America                 </td><td>google                    </td><td> 0                        </td><td>1                         </td><td>1                         </td><td>0.01                      </td></tr>\n",
       "\t<tr><td>1                         </td><td>1                         </td><td>N.America                 </td><td>google                    </td><td> 0                        </td><td>1                         </td><td>1                         </td><td>0.01                      </td></tr>\n",
       "\t<tr><td>1                         </td><td>1                         </td><td>N.America                 </td><td>google                    </td><td> 0                        </td><td>1                         </td><td>1                         </td><td>0.01                      </td></tr>\n",
       "\t<tr><td>1                         </td><td>1                         </td><td>N.America                 </td><td>google                    </td><td> 0                        </td><td>1                         </td><td>1                         </td><td>0.01                      </td></tr>\n",
       "\t<tr><td>1                         </td><td>1                         </td><td>N.America                 </td><td>google                    </td><td> 0                        </td><td>1                         </td><td>1                         </td><td>0.01                      </td></tr>\n",
       "\t<tr><td>1                         </td><td>1                         </td><td>N.America                 </td><td>google                    </td><td> 0                        </td><td>1                         </td><td>1                         </td><td>0.01                      </td></tr>\n",
       "\t<tr><td>1                         </td><td>1                         </td><td>N.America                 </td><td>google                    </td><td> 0                        </td><td>1                         </td><td>1                         </td><td>0.01                      </td></tr>\n",
       "\t<tr><td>1                         </td><td>1                         </td><td>N.America                 </td><td>google                    </td><td> 0                        </td><td>1                         </td><td>1                         </td><td>0.01                      </td></tr>\n",
       "\t<tr><td>1                         </td><td>1                         </td><td>N.America                 </td><td>google                    </td><td> 0                        </td><td>1                         </td><td>1                         </td><td>0.01                      </td></tr>\n",
       "\t<tr><td>1                         </td><td>1                         </td><td>N.America                 </td><td>google                    </td><td> 0                        </td><td>1                         </td><td>1                         </td><td>0.01                      </td></tr>\n",
       "\t<tr><td>1                         </td><td>1                         </td><td>N.America                 </td><td>google                    </td><td> 0                        </td><td>1                         </td><td>1                         </td><td>0.01                      </td></tr>\n",
       "\t<tr><td>1                         </td><td>1                         </td><td>N.America                 </td><td>google                    </td><td> 0                        </td><td>1                         </td><td>1                         </td><td>0.01                      </td></tr>\n",
       "\t<tr><td>1                         </td><td>1                         </td><td>N.America                 </td><td>google                    </td><td> 0                        </td><td>1                         </td><td>1                         </td><td>0.01                      </td></tr>\n",
       "\t<tr><td>1                         </td><td>1                         </td><td>N.America                 </td><td>public.tableausoftware.com</td><td> 0                        </td><td>1                         </td><td>1                         </td><td>0.01                      </td></tr>\n",
       "\t<tr><td>1                         </td><td>1                         </td><td>N.America                 </td><td>Others                    </td><td> 0                        </td><td>1                         </td><td>1                         </td><td>0.01                      </td></tr>\n",
       "\t<tr><td>1                         </td><td>1                         </td><td>N.America                 </td><td>tableausoftware.com       </td><td> 0                        </td><td>1                         </td><td>1                         </td><td>0.01                      </td></tr>\n",
       "\t<tr><td>1                         </td><td>1                         </td><td>N.America                 </td><td>tableausoftware.com       </td><td> 0                        </td><td>1                         </td><td>1                         </td><td>0.01                      </td></tr>\n",
       "\t<tr><td>1                         </td><td>1                         </td><td>N.America                 </td><td>Others                    </td><td> 0                        </td><td>1                         </td><td>1                         </td><td>0.01                      </td></tr>\n",
       "\t<tr><td>1                         </td><td>1                         </td><td>N.America                 </td><td>Others                    </td><td> 0                        </td><td>1                         </td><td>1                         </td><td>0.01                      </td></tr>\n",
       "\t<tr><td>1                         </td><td>1                         </td><td>N.America                 </td><td>Others                    </td><td> 0                        </td><td>1                         </td><td>1                         </td><td>0.01                      </td></tr>\n",
       "\t<tr><td>1                         </td><td>1                         </td><td>N.America                 </td><td>visualisingdata.com       </td><td> 0                        </td><td>1                         </td><td>1                         </td><td>0.01                      </td></tr>\n",
       "\t<tr><td>1                         </td><td>1                         </td><td>EU                        </td><td>reddit.com                </td><td> 0                        </td><td>1                         </td><td>1                         </td><td>0.01                      </td></tr>\n",
       "\t<tr><td>1                         </td><td>1                         </td><td>EU                        </td><td>t.co                      </td><td> 0                        </td><td>1                         </td><td>1                         </td><td>0.01                      </td></tr>\n",
       "\t<tr><td>1                         </td><td>1                         </td><td>EU                        </td><td>t.co                      </td><td> 0                        </td><td>1                         </td><td>1                         </td><td>0.01                      </td></tr>\n",
       "\t<tr><td>1                         </td><td>1                         </td><td>N.America                 </td><td>t.co                      </td><td> 0                        </td><td>1                         </td><td>1                         </td><td>0.01                      </td></tr>\n",
       "\t<tr><td>1                         </td><td>1                         </td><td>N.America                 </td><td>public.tableausoftware.com</td><td>12                        </td><td>2                         </td><td>2                         </td><td>0.01                      </td></tr>\n",
       "\t<tr><td>2                         </td><td>2                         </td><td>N.America                 </td><td>(direct)                  </td><td> 0                        </td><td>2                         </td><td>2                         </td><td>0.02                      </td></tr>\n",
       "\t<tr><td>2                         </td><td>2                         </td><td>N.America                 </td><td>(direct)                  </td><td> 0                        </td><td>2                         </td><td>2                         </td><td>0.02                      </td></tr>\n",
       "\t<tr><td>2                         </td><td>2                         </td><td>N.America                 </td><td>(direct)                  </td><td> 0                        </td><td>2                         </td><td>2                         </td><td>0.02                      </td></tr>\n",
       "\t<tr><td>2                         </td><td>2                         </td><td>N.America                 </td><td>google                    </td><td> 0                        </td><td>2                         </td><td>2                         </td><td>0.02                      </td></tr>\n",
       "</tbody>\n",
       "</table>\n"
      ],
      "text/latex": [
       "\\begin{tabular}{r|llllllll}\n",
       " ï..Bounces & Exits & Continent & Sourcegroup & Timeinpage & Uniquepageviews & Visits & BouncesNew\\\\\n",
       "\\hline\n",
       "\t 0                          & 0                          & OC                         & (direct)                   &   18                       & 1                          & 0                          & 0                         \\\\\n",
       "\t 0                          & 0                          & N.America                  & (direct)                   &    4                       & 1                          & 0                          & 0                         \\\\\n",
       "\t 0                          & 0                          & N.America                  & Others                     &   35                       & 1                          & 0                          & 0                         \\\\\n",
       "\t 0                          & 0                          & N.America                  & public.tableausoftware.com &   70                       & 1                          & 0                          & 0                         \\\\\n",
       "\t 0                          & 0                          & N.America                  & public.tableausoftware.com &   81                       & 1                          & 0                          & 0                         \\\\\n",
       "\t 0                          & 0                          & N.America                  & public.tableausoftware.com &   75                       & 1                          & 0                          & 0                         \\\\\n",
       "\t 0                          & 0                          & N.America                  & public.tableausoftware.com &  186                       & 1                          & 0                          & 0                         \\\\\n",
       "\t 0                          & 0                          & N.America                  & (direct)                   &  710                       & 1                          & 0                          & 0                         \\\\\n",
       "\t 0                          & 0                          & OC                         & (direct)                   &  712                       & 1                          & 1                          & 0                         \\\\\n",
       "\t 0                          & 0                          & AS                         & Others                     &  344                       & 1                          & 1                          & 0                         \\\\\n",
       "\t 0                          & 0                          & EU                         & Others                     &   27                       & 1                          & 1                          & 0                         \\\\\n",
       "\t 0                          & 0                          & EU                         & visualisingdata.com        &    0                       & 1                          & 1                          & 0                         \\\\\n",
       "\t 0                          & 0                          & N.America                  & Others                     &  294                       & 1                          & 1                          & 0                         \\\\\n",
       "\t 0                          & 0                          & N.America                  & public.tableausoftware.com &  111                       & 1                          & 1                          & 0                         \\\\\n",
       "\t 0                          & 0                          & SA                         & (direct)                   & 1430                       & 1                          & 1                          & 0                         \\\\\n",
       "\t 0                          & 0                          & N.America                  & (direct)                   &   29                       & 1                          & 1                          & 0                         \\\\\n",
       "\t 0                          & 0                          & N.America                  & Others                     &  637                       & 1                          & 1                          & 0                         \\\\\n",
       "\t 0                          & 0                          & N.America                  & google                     &   10                       & 1                          & 1                          & 0                         \\\\\n",
       "\t 0                          & 0                          & N.America                  & google                     &   42                       & 2                          & 1                          & 0                         \\\\\n",
       "\t 0                          & 1                          & OC                         & (direct)                   &    0                       & 1                          & 0                          & 0                         \\\\\n",
       "\t 0                          & 1                          & SA                         & (direct)                   &    0                       & 1                          & 0                          & 0                         \\\\\n",
       "\t 0                          & 1                          & AS                         & Others                     &    0                       & 1                          & 0                          & 0                         \\\\\n",
       "\t 0                          & 1                          & EU                         & Others                     &    0                       & 1                          & 0                          & 0                         \\\\\n",
       "\t 0                          & 1                          & EU                         & visualisingdata.com        &    0                       & 1                          & 0                          & 0                         \\\\\n",
       "\t 0                          & 1                          & N.America                  & (direct)                   &    0                       & 1                          & 0                          & 0                         \\\\\n",
       "\t 0                          & 1                          & N.America                  & Others                     &    0                       & 1                          & 0                          & 0                         \\\\\n",
       "\t 0                          & 1                          & N.America                  & public.tableausoftware.com &    0                       & 1                          & 0                          & 0                         \\\\\n",
       "\t 0                          & 1                          & N.America                  & Others                     &   10                       & 1                          & 0                          & 0                         \\\\\n",
       "\t 0                          & 1                          & AS                         & google                     &   23                       & 1                          & 1                          & 0                         \\\\\n",
       "\t 0                          & 1                          & EU                         & google                     &    6                       & 1                          & 1                          & 0                         \\\\\n",
       "\t ... & ... & ... & ... & ... & ... & ... & ...\\\\\n",
       "\t 1                          & 1                          & N.America                  & google                     &  0                         & 1                          & 1                          & 0.01                      \\\\\n",
       "\t 1                          & 1                          & N.America                  & google                     &  0                         & 1                          & 1                          & 0.01                      \\\\\n",
       "\t 1                          & 1                          & N.America                  & google                     &  0                         & 1                          & 1                          & 0.01                      \\\\\n",
       "\t 1                          & 1                          & N.America                  & google                     &  0                         & 1                          & 1                          & 0.01                      \\\\\n",
       "\t 1                          & 1                          & N.America                  & google                     &  0                         & 1                          & 1                          & 0.01                      \\\\\n",
       "\t 1                          & 1                          & N.America                  & google                     &  0                         & 1                          & 1                          & 0.01                      \\\\\n",
       "\t 1                          & 1                          & N.America                  & google                     &  0                         & 1                          & 1                          & 0.01                      \\\\\n",
       "\t 1                          & 1                          & N.America                  & google                     &  0                         & 1                          & 1                          & 0.01                      \\\\\n",
       "\t 1                          & 1                          & N.America                  & google                     &  0                         & 1                          & 1                          & 0.01                      \\\\\n",
       "\t 1                          & 1                          & N.America                  & google                     &  0                         & 1                          & 1                          & 0.01                      \\\\\n",
       "\t 1                          & 1                          & N.America                  & google                     &  0                         & 1                          & 1                          & 0.01                      \\\\\n",
       "\t 1                          & 1                          & N.America                  & google                     &  0                         & 1                          & 1                          & 0.01                      \\\\\n",
       "\t 1                          & 1                          & N.America                  & google                     &  0                         & 1                          & 1                          & 0.01                      \\\\\n",
       "\t 1                          & 1                          & N.America                  & public.tableausoftware.com &  0                         & 1                          & 1                          & 0.01                      \\\\\n",
       "\t 1                          & 1                          & N.America                  & Others                     &  0                         & 1                          & 1                          & 0.01                      \\\\\n",
       "\t 1                          & 1                          & N.America                  & tableausoftware.com        &  0                         & 1                          & 1                          & 0.01                      \\\\\n",
       "\t 1                          & 1                          & N.America                  & tableausoftware.com        &  0                         & 1                          & 1                          & 0.01                      \\\\\n",
       "\t 1                          & 1                          & N.America                  & Others                     &  0                         & 1                          & 1                          & 0.01                      \\\\\n",
       "\t 1                          & 1                          & N.America                  & Others                     &  0                         & 1                          & 1                          & 0.01                      \\\\\n",
       "\t 1                          & 1                          & N.America                  & Others                     &  0                         & 1                          & 1                          & 0.01                      \\\\\n",
       "\t 1                          & 1                          & N.America                  & visualisingdata.com        &  0                         & 1                          & 1                          & 0.01                      \\\\\n",
       "\t 1                          & 1                          & EU                         & reddit.com                 &  0                         & 1                          & 1                          & 0.01                      \\\\\n",
       "\t 1                          & 1                          & EU                         & t.co                       &  0                         & 1                          & 1                          & 0.01                      \\\\\n",
       "\t 1                          & 1                          & EU                         & t.co                       &  0                         & 1                          & 1                          & 0.01                      \\\\\n",
       "\t 1                          & 1                          & N.America                  & t.co                       &  0                         & 1                          & 1                          & 0.01                      \\\\\n",
       "\t 1                          & 1                          & N.America                  & public.tableausoftware.com & 12                         & 2                          & 2                          & 0.01                      \\\\\n",
       "\t 2                          & 2                          & N.America                  & (direct)                   &  0                         & 2                          & 2                          & 0.02                      \\\\\n",
       "\t 2                          & 2                          & N.America                  & (direct)                   &  0                         & 2                          & 2                          & 0.02                      \\\\\n",
       "\t 2                          & 2                          & N.America                  & (direct)                   &  0                         & 2                          & 2                          & 0.02                      \\\\\n",
       "\t 2                          & 2                          & N.America                  & google                     &  0                         & 2                          & 2                          & 0.02                      \\\\\n",
       "\\end{tabular}\n"
      ],
      "text/markdown": [
       "\n",
       "| ï..Bounces | Exits | Continent | Sourcegroup | Timeinpage | Uniquepageviews | Visits | BouncesNew |\n",
       "|---|---|---|---|---|---|---|---|\n",
       "| 0                          | 0                          | OC                         | (direct)                   |   18                       | 1                          | 0                          | 0                          |\n",
       "| 0                          | 0                          | N.America                  | (direct)                   |    4                       | 1                          | 0                          | 0                          |\n",
       "| 0                          | 0                          | N.America                  | Others                     |   35                       | 1                          | 0                          | 0                          |\n",
       "| 0                          | 0                          | N.America                  | public.tableausoftware.com |   70                       | 1                          | 0                          | 0                          |\n",
       "| 0                          | 0                          | N.America                  | public.tableausoftware.com |   81                       | 1                          | 0                          | 0                          |\n",
       "| 0                          | 0                          | N.America                  | public.tableausoftware.com |   75                       | 1                          | 0                          | 0                          |\n",
       "| 0                          | 0                          | N.America                  | public.tableausoftware.com |  186                       | 1                          | 0                          | 0                          |\n",
       "| 0                          | 0                          | N.America                  | (direct)                   |  710                       | 1                          | 0                          | 0                          |\n",
       "| 0                          | 0                          | OC                         | (direct)                   |  712                       | 1                          | 1                          | 0                          |\n",
       "| 0                          | 0                          | AS                         | Others                     |  344                       | 1                          | 1                          | 0                          |\n",
       "| 0                          | 0                          | EU                         | Others                     |   27                       | 1                          | 1                          | 0                          |\n",
       "| 0                          | 0                          | EU                         | visualisingdata.com        |    0                       | 1                          | 1                          | 0                          |\n",
       "| 0                          | 0                          | N.America                  | Others                     |  294                       | 1                          | 1                          | 0                          |\n",
       "| 0                          | 0                          | N.America                  | public.tableausoftware.com |  111                       | 1                          | 1                          | 0                          |\n",
       "| 0                          | 0                          | SA                         | (direct)                   | 1430                       | 1                          | 1                          | 0                          |\n",
       "| 0                          | 0                          | N.America                  | (direct)                   |   29                       | 1                          | 1                          | 0                          |\n",
       "| 0                          | 0                          | N.America                  | Others                     |  637                       | 1                          | 1                          | 0                          |\n",
       "| 0                          | 0                          | N.America                  | google                     |   10                       | 1                          | 1                          | 0                          |\n",
       "| 0                          | 0                          | N.America                  | google                     |   42                       | 2                          | 1                          | 0                          |\n",
       "| 0                          | 1                          | OC                         | (direct)                   |    0                       | 1                          | 0                          | 0                          |\n",
       "| 0                          | 1                          | SA                         | (direct)                   |    0                       | 1                          | 0                          | 0                          |\n",
       "| 0                          | 1                          | AS                         | Others                     |    0                       | 1                          | 0                          | 0                          |\n",
       "| 0                          | 1                          | EU                         | Others                     |    0                       | 1                          | 0                          | 0                          |\n",
       "| 0                          | 1                          | EU                         | visualisingdata.com        |    0                       | 1                          | 0                          | 0                          |\n",
       "| 0                          | 1                          | N.America                  | (direct)                   |    0                       | 1                          | 0                          | 0                          |\n",
       "| 0                          | 1                          | N.America                  | Others                     |    0                       | 1                          | 0                          | 0                          |\n",
       "| 0                          | 1                          | N.America                  | public.tableausoftware.com |    0                       | 1                          | 0                          | 0                          |\n",
       "| 0                          | 1                          | N.America                  | Others                     |   10                       | 1                          | 0                          | 0                          |\n",
       "| 0                          | 1                          | AS                         | google                     |   23                       | 1                          | 1                          | 0                          |\n",
       "| 0                          | 1                          | EU                         | google                     |    6                       | 1                          | 1                          | 0                          |\n",
       "| ... | ... | ... | ... | ... | ... | ... | ... |\n",
       "| 1                          | 1                          | N.America                  | google                     |  0                         | 1                          | 1                          | 0.01                       |\n",
       "| 1                          | 1                          | N.America                  | google                     |  0                         | 1                          | 1                          | 0.01                       |\n",
       "| 1                          | 1                          | N.America                  | google                     |  0                         | 1                          | 1                          | 0.01                       |\n",
       "| 1                          | 1                          | N.America                  | google                     |  0                         | 1                          | 1                          | 0.01                       |\n",
       "| 1                          | 1                          | N.America                  | google                     |  0                         | 1                          | 1                          | 0.01                       |\n",
       "| 1                          | 1                          | N.America                  | google                     |  0                         | 1                          | 1                          | 0.01                       |\n",
       "| 1                          | 1                          | N.America                  | google                     |  0                         | 1                          | 1                          | 0.01                       |\n",
       "| 1                          | 1                          | N.America                  | google                     |  0                         | 1                          | 1                          | 0.01                       |\n",
       "| 1                          | 1                          | N.America                  | google                     |  0                         | 1                          | 1                          | 0.01                       |\n",
       "| 1                          | 1                          | N.America                  | google                     |  0                         | 1                          | 1                          | 0.01                       |\n",
       "| 1                          | 1                          | N.America                  | google                     |  0                         | 1                          | 1                          | 0.01                       |\n",
       "| 1                          | 1                          | N.America                  | google                     |  0                         | 1                          | 1                          | 0.01                       |\n",
       "| 1                          | 1                          | N.America                  | google                     |  0                         | 1                          | 1                          | 0.01                       |\n",
       "| 1                          | 1                          | N.America                  | public.tableausoftware.com |  0                         | 1                          | 1                          | 0.01                       |\n",
       "| 1                          | 1                          | N.America                  | Others                     |  0                         | 1                          | 1                          | 0.01                       |\n",
       "| 1                          | 1                          | N.America                  | tableausoftware.com        |  0                         | 1                          | 1                          | 0.01                       |\n",
       "| 1                          | 1                          | N.America                  | tableausoftware.com        |  0                         | 1                          | 1                          | 0.01                       |\n",
       "| 1                          | 1                          | N.America                  | Others                     |  0                         | 1                          | 1                          | 0.01                       |\n",
       "| 1                          | 1                          | N.America                  | Others                     |  0                         | 1                          | 1                          | 0.01                       |\n",
       "| 1                          | 1                          | N.America                  | Others                     |  0                         | 1                          | 1                          | 0.01                       |\n",
       "| 1                          | 1                          | N.America                  | visualisingdata.com        |  0                         | 1                          | 1                          | 0.01                       |\n",
       "| 1                          | 1                          | EU                         | reddit.com                 |  0                         | 1                          | 1                          | 0.01                       |\n",
       "| 1                          | 1                          | EU                         | t.co                       |  0                         | 1                          | 1                          | 0.01                       |\n",
       "| 1                          | 1                          | EU                         | t.co                       |  0                         | 1                          | 1                          | 0.01                       |\n",
       "| 1                          | 1                          | N.America                  | t.co                       |  0                         | 1                          | 1                          | 0.01                       |\n",
       "| 1                          | 1                          | N.America                  | public.tableausoftware.com | 12                         | 2                          | 2                          | 0.01                       |\n",
       "| 2                          | 2                          | N.America                  | (direct)                   |  0                         | 2                          | 2                          | 0.02                       |\n",
       "| 2                          | 2                          | N.America                  | (direct)                   |  0                         | 2                          | 2                          | 0.02                       |\n",
       "| 2                          | 2                          | N.America                  | (direct)                   |  0                         | 2                          | 2                          | 0.02                       |\n",
       "| 2                          | 2                          | N.America                  | google                     |  0                         | 2                          | 2                          | 0.02                       |\n",
       "\n"
      ],
      "text/plain": [
       "      ï..Bounces Exits Continent Sourcegroup                Timeinpage\n",
       "1     0          0     OC        (direct)                     18      \n",
       "2     0          0     N.America (direct)                      4      \n",
       "3     0          0     N.America Others                       35      \n",
       "4     0          0     N.America public.tableausoftware.com   70      \n",
       "5     0          0     N.America public.tableausoftware.com   81      \n",
       "6     0          0     N.America public.tableausoftware.com   75      \n",
       "7     0          0     N.America public.tableausoftware.com  186      \n",
       "8     0          0     N.America (direct)                    710      \n",
       "9     0          0     OC        (direct)                    712      \n",
       "10    0          0     AS        Others                      344      \n",
       "11    0          0     EU        Others                       27      \n",
       "12    0          0     EU        visualisingdata.com           0      \n",
       "13    0          0     N.America Others                      294      \n",
       "14    0          0     N.America public.tableausoftware.com  111      \n",
       "15    0          0     SA        (direct)                   1430      \n",
       "16    0          0     N.America (direct)                     29      \n",
       "17    0          0     N.America Others                      637      \n",
       "18    0          0     N.America google                       10      \n",
       "19    0          0     N.America google                       42      \n",
       "20    0          1     OC        (direct)                      0      \n",
       "21    0          1     SA        (direct)                      0      \n",
       "22    0          1     AS        Others                        0      \n",
       "23    0          1     EU        Others                        0      \n",
       "24    0          1     EU        visualisingdata.com           0      \n",
       "25    0          1     N.America (direct)                      0      \n",
       "26    0          1     N.America Others                        0      \n",
       "27    0          1     N.America public.tableausoftware.com    0      \n",
       "28    0          1     N.America Others                       10      \n",
       "29    0          1     AS        google                       23      \n",
       "30    0          1     EU        google                        6      \n",
       "...   ...        ...   ...       ...                        ...       \n",
       "32080 1          1     N.America google                      0        \n",
       "32081 1          1     N.America google                      0        \n",
       "32082 1          1     N.America google                      0        \n",
       "32083 1          1     N.America google                      0        \n",
       "32084 1          1     N.America google                      0        \n",
       "32085 1          1     N.America google                      0        \n",
       "32086 1          1     N.America google                      0        \n",
       "32087 1          1     N.America google                      0        \n",
       "32088 1          1     N.America google                      0        \n",
       "32089 1          1     N.America google                      0        \n",
       "32090 1          1     N.America google                      0        \n",
       "32091 1          1     N.America google                      0        \n",
       "32092 1          1     N.America google                      0        \n",
       "32093 1          1     N.America public.tableausoftware.com  0        \n",
       "32094 1          1     N.America Others                      0        \n",
       "32095 1          1     N.America tableausoftware.com         0        \n",
       "32096 1          1     N.America tableausoftware.com         0        \n",
       "32097 1          1     N.America Others                      0        \n",
       "32098 1          1     N.America Others                      0        \n",
       "32099 1          1     N.America Others                      0        \n",
       "32100 1          1     N.America visualisingdata.com         0        \n",
       "32101 1          1     EU        reddit.com                  0        \n",
       "32102 1          1     EU        t.co                        0        \n",
       "32103 1          1     EU        t.co                        0        \n",
       "32104 1          1     N.America t.co                        0        \n",
       "32105 1          1     N.America public.tableausoftware.com 12        \n",
       "32106 2          2     N.America (direct)                    0        \n",
       "32107 2          2     N.America (direct)                    0        \n",
       "32108 2          2     N.America (direct)                    0        \n",
       "32109 2          2     N.America google                      0        \n",
       "      Uniquepageviews Visits BouncesNew\n",
       "1     1               0      0         \n",
       "2     1               0      0         \n",
       "3     1               0      0         \n",
       "4     1               0      0         \n",
       "5     1               0      0         \n",
       "6     1               0      0         \n",
       "7     1               0      0         \n",
       "8     1               0      0         \n",
       "9     1               1      0         \n",
       "10    1               1      0         \n",
       "11    1               1      0         \n",
       "12    1               1      0         \n",
       "13    1               1      0         \n",
       "14    1               1      0         \n",
       "15    1               1      0         \n",
       "16    1               1      0         \n",
       "17    1               1      0         \n",
       "18    1               1      0         \n",
       "19    2               1      0         \n",
       "20    1               0      0         \n",
       "21    1               0      0         \n",
       "22    1               0      0         \n",
       "23    1               0      0         \n",
       "24    1               0      0         \n",
       "25    1               0      0         \n",
       "26    1               0      0         \n",
       "27    1               0      0         \n",
       "28    1               0      0         \n",
       "29    1               1      0         \n",
       "30    1               1      0         \n",
       "...   ...             ...    ...       \n",
       "32080 1               1      0.01      \n",
       "32081 1               1      0.01      \n",
       "32082 1               1      0.01      \n",
       "32083 1               1      0.01      \n",
       "32084 1               1      0.01      \n",
       "32085 1               1      0.01      \n",
       "32086 1               1      0.01      \n",
       "32087 1               1      0.01      \n",
       "32088 1               1      0.01      \n",
       "32089 1               1      0.01      \n",
       "32090 1               1      0.01      \n",
       "32091 1               1      0.01      \n",
       "32092 1               1      0.01      \n",
       "32093 1               1      0.01      \n",
       "32094 1               1      0.01      \n",
       "32095 1               1      0.01      \n",
       "32096 1               1      0.01      \n",
       "32097 1               1      0.01      \n",
       "32098 1               1      0.01      \n",
       "32099 1               1      0.01      \n",
       "32100 1               1      0.01      \n",
       "32101 1               1      0.01      \n",
       "32102 1               1      0.01      \n",
       "32103 1               1      0.01      \n",
       "32104 1               1      0.01      \n",
       "32105 2               2      0.01      \n",
       "32106 2               2      0.02      \n",
       "32107 2               2      0.02      \n",
       "32108 2               2      0.02      \n",
       "32109 2               2      0.02      "
      ]
     },
     "metadata": {},
     "output_type": "display_data"
    }
   ],
   "source": [
    "dataset"
   ]
  },
  {
   "cell_type": "code",
   "execution_count": 4,
   "metadata": {},
   "outputs": [
    {
     "data": {
      "text/plain": [
       "   ï..Bounces         Exits            Continent    \n",
       " Min.   : 0.000   Min.   : 0.000   AF       :  321  \n",
       " 1st Qu.: 0.000   1st Qu.: 1.000   AS       : 3171  \n",
       " Median : 1.000   Median : 1.000   EU       : 6470  \n",
       " Mean   : 0.713   Mean   : 0.906   N.America:20043  \n",
       " 3rd Qu.: 1.000   3rd Qu.: 1.000   OC       : 1356  \n",
       " Max.   :30.000   Max.   :36.000   SA       :  748  \n",
       "                                                    \n",
       "                     Sourcegroup      Timeinpage       Uniquepageviews \n",
       " google                    :11542   Min.   :    0.00   Min.   : 1.000  \n",
       " (direct)                  : 7532   1st Qu.:    0.00   1st Qu.: 1.000  \n",
       " Others                    : 5360   Median :    0.00   Median : 1.000  \n",
       " tableausoftware.com       : 2388   Mean   :   73.18   Mean   : 1.114  \n",
       " t.co                      : 2249   3rd Qu.:   10.00   3rd Qu.: 1.000  \n",
       " public.tableausoftware.com: 1354   Max.   :46745.00   Max.   :45.000  \n",
       " (Other)                   : 1684                                      \n",
       "     Visits         BouncesNew     \n",
       " Min.   : 0.000   Min.   :0.00000  \n",
       " 1st Qu.: 1.000   1st Qu.:0.00000  \n",
       " Median : 1.000   Median :0.01000  \n",
       " Mean   : 0.906   Mean   :0.00713  \n",
       " 3rd Qu.: 1.000   3rd Qu.:0.01000  \n",
       " Max.   :45.000   Max.   :0.30000  \n",
       "                                   "
      ]
     },
     "metadata": {},
     "output_type": "display_data"
    }
   ],
   "source": [
    "#•\tThe team wants to analyze each variable of the data collected through data summarization.\n",
    "# to get a basic understanding of the dataset and to prepare for further analysis.\n",
    "# I answer that using: summary()\n",
    "summary(dataset)"
   ]
  },
  {
   "cell_type": "code",
   "execution_count": 5,
   "metadata": {},
   "outputs": [],
   "source": [
    "# We can see that [ bounces min=0,max=30 ] and [exit min=0 max=36]\n",
    "# Most of the visitors are from N.America.\n",
    "# The most common source group is Google.\n",
    "# The mean Time in the page is 73.\n",
    "# We can see that the numerical data includes information like the maximum, minimum,Median , and the mean. \n",
    "# The categorical data like continent includes the data of the number of times the category has been repeated in the dataset.\n",
    "# for example EU was repeated 6470 times.  "
   ]
  },
  {
   "cell_type": "code",
   "execution_count": 6,
   "metadata": {},
   "outputs": [
    {
     "data": {
      "text/html": [
       "0.81444570707346"
      ],
      "text/latex": [
       "0.81444570707346"
      ],
      "text/markdown": [
       "0.81444570707346"
      ],
      "text/plain": [
       "[1] 0.8144457"
      ]
     },
     "metadata": {},
     "output_type": "display_data"
    }
   ],
   "source": [
    "## •\tA unique page view represents the number of sessions during which that page was viewed one or more times. \n",
    "## A visit counts all instances, no matter how many times the same visitor may have been to your site.\n",
    "## So the team needs to know whether the unique page view value depends on visits.\n",
    "cor(dataset$Uniquepageviews,dataset$Visits)"
   ]
  },
  {
   "cell_type": "code",
   "execution_count": 7,
   "metadata": {
    "scrolled": true
   },
   "outputs": [
    {
     "data": {
      "text/plain": [
       "               Df Sum Sq Mean Sq F value Pr(>F)    \n",
       "Visits          1   8052    8052   63257 <2e-16 ***\n",
       "Residuals   32107   4087       0                   \n",
       "---\n",
       "Signif. codes:  0 '***' 0.001 '**' 0.01 '*' 0.05 '.' 0.1 ' ' 1"
      ]
     },
     "metadata": {},
     "output_type": "display_data"
    }
   ],
   "source": [
    "A_1  <-aov(Uniquepageviews~Visits, data=dataset)\n",
    "summary(A_1)  "
   ]
  },
  {
   "cell_type": "code",
   "execution_count": 8,
   "metadata": {},
   "outputs": [],
   "source": [
    "# The visits variable has a huge impact on Unique Pageviews.\n",
    "# unique page values depend on visits. "
   ]
  },
  {
   "cell_type": "code",
   "execution_count": 9,
   "metadata": {
    "scrolled": true
   },
   "outputs": [
    {
     "data": {
      "text/plain": [
       "                   Df Sum Sq Mean Sq   F value   Pr(>F)    \n",
       "ï..Bounces          1  10578   10578 1.043e+05  < 2e-16 ***\n",
       "Continent           5      3       1 5.960e+00 1.62e-05 ***\n",
       "Sourcegroup         8      7       1 8.760e+00 4.89e-12 ***\n",
       "Timeinpage          1    130     130 1.279e+03  < 2e-16 ***\n",
       "Uniquepageviews     1   1573    1573 1.552e+04  < 2e-16 ***\n",
       "Visits              1      1       1 5.014e+00   0.0251 *  \n",
       "Residuals       32091   3254       0                       \n",
       "---\n",
       "Signif. codes:  0 '***' 0.001 '**' 0.01 '*' 0.05 '.' 0.1 ' ' 1"
      ]
     },
     "metadata": {},
     "output_type": "display_data"
    }
   ],
   "source": [
    "## •\tFind out the probable factors from the dataset, which could affect the exits.\n",
    "##Exit Page Analysis is usually required to get an idea about why a user leaves the website for a session and moves on to another one. \n",
    "## Please keep in mind that exits should not be confused with bounces.\n",
    "\n",
    "A_2<-aov(Exits~.,data = dataset)\n",
    "summary(A_2)"
   ]
  },
  {
   "cell_type": "code",
   "execution_count": 10,
   "metadata": {},
   "outputs": [],
   "source": [
    "# 1- sourcegroup 2- bounces 3-unique pageviews are significant. \n",
    "#Visits is less significant.\n",
    "# exit from the site is affected by the factors of source group, bounces, and unique.pageviews.  \n"
   ]
  },
  {
   "cell_type": "code",
   "execution_count": 11,
   "metadata": {
    "scrolled": true
   },
   "outputs": [
    {
     "data": {
      "text/plain": [
       "                   Df    Sum Sq   Mean Sq  F value   Pr(>F)    \n",
       "ï..Bounces          1 5.947e+07  59466495  422.868  < 2e-16 ***\n",
       "Exits               1 1.304e+08 130400662  927.283  < 2e-16 ***\n",
       "Continent           5 4.767e+06    953431    6.780 2.51e-06 ***\n",
       "Sourcegroup         8 1.545e+06    193153    1.374    0.202    \n",
       "Uniquepageviews     1 1.791e+08 179133934 1273.826  < 2e-16 ***\n",
       "Visits              1 1.073e+08 107321113  763.163  < 2e-16 ***\n",
       "Residuals       32091 4.513e+09    140627                      \n",
       "---\n",
       "Signif. codes:  0 '***' 0.001 '**' 0.01 '*' 0.05 '.' 0.1 ' ' 1"
      ]
     },
     "metadata": {},
     "output_type": "display_data"
    }
   ],
   "source": [
    "\n",
    "## •\tEvery site wants to increase the time on page for a visitor. \n",
    "## This increases the chances of the visitor understanding the site content better and hence there are more chances of a transaction taking place. \n",
    "## Find the variables which possibly have an effect on the time on page.\n",
    "\n",
    "A_3<-aov(Timeinpage~.,data = dataset)\n",
    "  summary(A_3)"
   ]
  },
  {
   "cell_type": "code",
   "execution_count": 12,
   "metadata": {},
   "outputs": [],
   "source": [
    "# All of the varibles have an effect on the time on page except the source group."
   ]
  },
  {
   "cell_type": "code",
   "execution_count": 13,
   "metadata": {},
   "outputs": [
    {
     "name": "stderr",
     "output_type": "stream",
     "text": [
      "Warning message in eval(family$initialize):\n",
      "\"non-integer #successes in a binomial glm!\"Warning message:\n",
      "\"glm.fit: fitted probabilities numerically 0 or 1 occurred\""
     ]
    }
   ],
   "source": [
    "###•\tA high bounce rate is a cause of alarm for websites which depend on visitor engagement.\n",
    "##Help the team in determining the factors that are impacting the bounce.\n",
    "\n",
    "dataset$Bounces = dataset$Bounces*0.01\n",
    "B_1 <- glm(Bounces~Timeinpage+Continent+Exits+Sourcegroup+Uniquepageviews+Visits,data = dataset,family = \"binomial\")"
   ]
  },
  {
   "cell_type": "code",
   "execution_count": 14,
   "metadata": {},
   "outputs": [
    {
     "data": {
      "text/plain": [
       "\n",
       "Call:\n",
       "glm(formula = Bounces ~ Timeinpage + Continent + Exits + Sourcegroup + \n",
       "    Uniquepageviews + Visits, family = \"binomial\", data = dataset)\n",
       "\n",
       "Deviance Residuals: \n",
       "      Min         1Q     Median         3Q        Max  \n",
       "-0.177602  -0.002589  -0.000092   0.000827   0.197209  \n",
       "\n",
       "Coefficients:\n",
       "                                        Estimate Std. Error z value Pr(>|z|)\n",
       "(Intercept)                           -9.4320750  6.7158811  -1.404    0.160\n",
       "Timeinpage                            -0.0008964  0.0054479  -0.165    0.869\n",
       "ContinentAS                            0.0086639  6.9008092   0.001    0.999\n",
       "ContinentEU                           -0.0008007  6.7556296   0.000    1.000\n",
       "ContinentN.America                     0.0233665  6.6433474   0.004    0.997\n",
       "ContinentOC                            0.0280238  7.3001577   0.004    0.997\n",
       "ContinentSA                            0.0317318  7.8777024   0.004    0.997\n",
       "Exits                                  1.1821124  3.3880479   0.349    0.727\n",
       "Sourcegroupfacebook                   -0.0475441 10.9902581  -0.004    0.997\n",
       "Sourcegroupgoogle                     -0.1073246  1.7012407  -0.063    0.950\n",
       "SourcegroupOthers                     -0.1081615  2.1631282  -0.050    0.960\n",
       "Sourcegrouppublic.tableausoftware.com -0.2939098  4.9012946  -0.060    0.952\n",
       "Sourcegroupreddit.com                 -0.0366040  4.6825693  -0.008    0.994\n",
       "Sourcegroupt.co                        0.0090573  2.7446777   0.003    0.997\n",
       "Sourcegrouptableausoftware.com        -0.1531199  3.1684149  -0.048    0.961\n",
       "Sourcegroupvisualisingdata.com        -0.1184842  4.5889724  -0.026    0.979\n",
       "Uniquepageviews                       -3.1989594  5.8362761  -0.548    0.584\n",
       "Visits                                 2.2396256  5.2100228   0.430    0.667\n",
       "\n",
       "(Dispersion parameter for binomial family taken to be 1)\n",
       "\n",
       "    Null deviance: 2.3330  on 32108  degrees of freedom\n",
       "Residual deviance: 1.0332  on 32091  degrees of freedom\n",
       "AIC: 40.58\n",
       "\n",
       "Number of Fisher Scoring iterations: 15\n"
      ]
     },
     "metadata": {},
     "output_type": "display_data"
    }
   ],
   "source": [
    "summary(B_1)"
   ]
  },
  {
   "cell_type": "code",
   "execution_count": 15,
   "metadata": {},
   "outputs": [],
   "source": [
    "# The factors that are impacting the bounce:\n",
    "#1- BouncesNew 2- Unique Pageviews 3- visits"
   ]
  }
 ],
 "metadata": {
  "kernelspec": {
   "display_name": "R",
   "language": "R",
   "name": "ir"
  },
  "language_info": {
   "codemirror_mode": "r",
   "file_extension": ".r",
   "mimetype": "text/x-r-source",
   "name": "R",
   "pygments_lexer": "r",
   "version": "3.6.0"
  }
 },
 "nbformat": 4,
 "nbformat_minor": 2
}
